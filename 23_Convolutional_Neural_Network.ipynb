{
  "cells": [
    {
      "cell_type": "markdown",
      "metadata": {
        "id": "view-in-github",
        "colab_type": "text"
      },
      "source": [
        "<a href=\"https://colab.research.google.com/github/franklinemomanyi/MachineLearning/blob/main/23_Convolutional_Neural_Network.ipynb\" target=\"_parent\"><img src=\"https://colab.research.google.com/assets/colab-badge.svg\" alt=\"Open In Colab\"/></a>"
      ]
    },
    {
      "cell_type": "markdown",
      "metadata": {
        "id": "xNJXvfWKhONF"
      },
      "source": [
        "**Importing Libraries**"
      ]
    },
    {
      "cell_type": "code",
      "execution_count": null,
      "metadata": {
        "id": "p7hkhCoTQmnx"
      },
      "outputs": [],
      "source": [
        "import tensorflow as tf\n",
        "from keras.preprocessing.image import ImageDataGenerator"
      ]
    },
    {
      "cell_type": "code",
      "execution_count": null,
      "metadata": {
        "colab": {
          "base_uri": "https://localhost:8080/",
          "height": 35
        },
        "id": "hkJ8R2LmQ6Wy",
        "outputId": "dbc25264-7ed4-48c1-e2d5-d9301f177d74"
      },
      "outputs": [
        {
          "data": {
            "text/plain": [
              "'2.10.0'"
            ]
          },
          "execution_count": 2,
          "metadata": {},
          "output_type": "execute_result"
        }
      ],
      "source": [
        "tf.__version__"
      ]
    },
    {
      "cell_type": "markdown",
      "metadata": {
        "id": "OY3LSvpghXPT"
      },
      "source": [
        "**Data Preporocessing**"
      ]
    },
    {
      "cell_type": "code",
      "execution_count": null,
      "metadata": {
        "id": "0JXJw-43RaZO",
        "outputId": "53fbf61d-4940-4e20-91ec-3fec70ef97f8"
      },
      "outputs": [
        {
          "name": "stdout",
          "output_type": "stream",
          "text": [
            "Found 8000 images belonging to 2 classes.\n",
            "Found 2000 images belonging to 2 classes.\n"
          ]
        }
      ],
      "source": [
        "#Preprocessing the Training set\n",
        "#Transformation of images to avoid overfitting/overlearning [Image Augmentation]\n",
        "train_datagen = ImageDataGenerator(\n",
        "        rescale=1./255,\n",
        "        shear_range=0.2,\n",
        "        zoom_range=0.2,\n",
        "        horizontal_flip=True)\n",
        "\n",
        "training_set = train_datagen.flow_from_directory(\n",
        "        'dataset/training_set',\n",
        "        target_size=(64, 64),\n",
        "        batch_size=32,\n",
        "        class_mode='binary')\n",
        "\n",
        "#Preprocessing the Test set\n",
        "test_datagen = ImageDataGenerator(rescale=1./255)\n",
        "test_set = test_datagen.flow_from_directory(\n",
        "        'dataset/test_set',\n",
        "        target_size=(64, 64),\n",
        "        batch_size=32,\n",
        "        class_mode='binary')"
      ]
    },
    {
      "cell_type": "markdown",
      "metadata": {
        "id": "HXRHoBiEhZJE"
      },
      "source": [
        "**Building CNN**"
      ]
    },
    {
      "cell_type": "code",
      "execution_count": null,
      "metadata": {
        "id": "g2Hq1vujV7pm"
      },
      "outputs": [],
      "source": [
        "#Initializing CNN\n",
        "cnn = tf.keras.models.Sequential()\n",
        "\n",
        "#Adding the input convolution layer\n",
        "#Step 1: Convolution\n",
        "cnn.add(tf.keras.layers.Conv2D(filters=32, kernel_size=3, activation='relu', input_shape=[64,64,3]))\n",
        "#Step 2: Pooling\n",
        "cnn.add(tf.keras.layers.MaxPooling2D(pool_size=2, strides=2))\n",
        "\n",
        "#Adding a second convolution layer\n",
        "#Step 1: Convolution\n",
        "cnn.add(tf.keras.layers.Conv2D(filters=32, kernel_size=3, activation='relu'))\n",
        "#Step 2: Pooling\n",
        "cnn.add(tf.keras.layers.MaxPooling2D(pool_size=2, strides=2))\n",
        "\n",
        "#Step 3: Flattening\n",
        "cnn.add(tf.keras.layers.Flatten())\n",
        "\n",
        "#Step 4: Full Connection\n",
        "cnn.add(tf.keras.layers.Dense(units=128, activation='relu'))\n",
        "\n",
        "#Step 5: Output Layer\n",
        "cnn.add(tf.keras.layers.Dense(units=1, activation='sigmoid'))\n"
      ]
    },
    {
      "cell_type": "markdown",
      "metadata": {
        "id": "qGGRPwbDhaw0"
      },
      "source": [
        "**Training CNN**"
      ]
    },
    {
      "cell_type": "code",
      "execution_count": null,
      "metadata": {
        "id": "tQMJgOoj-6F-"
      },
      "outputs": [],
      "source": [
        "#Compiling the CNN\n",
        "cnn.compile(optimizer= 'adam', loss= 'binary_crossentropy', metrics=['accuracy'])"
      ]
    },
    {
      "cell_type": "code",
      "execution_count": null,
      "metadata": {
        "id": "xrU6IwpJO1qa",
        "outputId": "1b157b68-0d53-4161-c5f7-b0c9765a75bd"
      },
      "outputs": [
        {
          "name": "stdout",
          "output_type": "stream",
          "text": [
            "Epoch 1/25\n",
            "250/250 [==============================] - 116s 454ms/step - loss: 0.6760 - accuracy: 0.5701 - val_loss: 0.6191 - val_accuracy: 0.6720\n",
            "Epoch 2/25\n",
            "250/250 [==============================] - 52s 210ms/step - loss: 0.6171 - accuracy: 0.6612 - val_loss: 0.6005 - val_accuracy: 0.6815\n",
            "Epoch 3/25\n",
            "250/250 [==============================] - 49s 195ms/step - loss: 0.5781 - accuracy: 0.6981 - val_loss: 0.5538 - val_accuracy: 0.7205\n",
            "Epoch 4/25\n",
            "250/250 [==============================] - 56s 224ms/step - loss: 0.5411 - accuracy: 0.7218 - val_loss: 0.5280 - val_accuracy: 0.7390\n",
            "Epoch 5/25\n",
            "250/250 [==============================] - 44s 174ms/step - loss: 0.5197 - accuracy: 0.7415 - val_loss: 0.5278 - val_accuracy: 0.7425\n",
            "Epoch 6/25\n",
            "250/250 [==============================] - 44s 174ms/step - loss: 0.4929 - accuracy: 0.7616 - val_loss: 0.4943 - val_accuracy: 0.7745\n",
            "Epoch 7/25\n",
            "250/250 [==============================] - 47s 187ms/step - loss: 0.4782 - accuracy: 0.7699 - val_loss: 0.4987 - val_accuracy: 0.7685\n",
            "Epoch 8/25\n",
            "250/250 [==============================] - 44s 177ms/step - loss: 0.4607 - accuracy: 0.7781 - val_loss: 0.4927 - val_accuracy: 0.7740\n",
            "Epoch 9/25\n",
            "250/250 [==============================] - 56s 223ms/step - loss: 0.4510 - accuracy: 0.7859 - val_loss: 0.5249 - val_accuracy: 0.7625\n",
            "Epoch 10/25\n",
            "250/250 [==============================] - 51s 204ms/step - loss: 0.4422 - accuracy: 0.7949 - val_loss: 0.4746 - val_accuracy: 0.7825\n",
            "Epoch 11/25\n",
            "250/250 [==============================] - 50s 200ms/step - loss: 0.4201 - accuracy: 0.8056 - val_loss: 0.5005 - val_accuracy: 0.7660\n",
            "Epoch 12/25\n",
            "250/250 [==============================] - 55s 220ms/step - loss: 0.4127 - accuracy: 0.8116 - val_loss: 0.4872 - val_accuracy: 0.7940\n",
            "Epoch 13/25\n",
            "250/250 [==============================] - 56s 223ms/step - loss: 0.4075 - accuracy: 0.8080 - val_loss: 0.4761 - val_accuracy: 0.7830\n",
            "Epoch 14/25\n",
            "250/250 [==============================] - 52s 209ms/step - loss: 0.3816 - accuracy: 0.8299 - val_loss: 0.4878 - val_accuracy: 0.7825\n",
            "Epoch 15/25\n",
            "250/250 [==============================] - 52s 208ms/step - loss: 0.3764 - accuracy: 0.8281 - val_loss: 0.5255 - val_accuracy: 0.7755\n",
            "Epoch 16/25\n",
            "250/250 [==============================] - 50s 201ms/step - loss: 0.3694 - accuracy: 0.8330 - val_loss: 0.4956 - val_accuracy: 0.7890\n",
            "Epoch 17/25\n",
            "250/250 [==============================] - 46s 185ms/step - loss: 0.3511 - accuracy: 0.8441 - val_loss: 0.5359 - val_accuracy: 0.7710\n",
            "Epoch 18/25\n",
            "250/250 [==============================] - 44s 178ms/step - loss: 0.3385 - accuracy: 0.8512 - val_loss: 0.4912 - val_accuracy: 0.7850\n",
            "Epoch 19/25\n",
            "250/250 [==============================] - 61s 245ms/step - loss: 0.3200 - accuracy: 0.8625 - val_loss: 0.4686 - val_accuracy: 0.7965\n",
            "Epoch 20/25\n",
            "250/250 [==============================] - 54s 215ms/step - loss: 0.3202 - accuracy: 0.8600 - val_loss: 0.5462 - val_accuracy: 0.7790\n",
            "Epoch 21/25\n",
            "250/250 [==============================] - 52s 207ms/step - loss: 0.3017 - accuracy: 0.8705 - val_loss: 0.5020 - val_accuracy: 0.7885\n",
            "Epoch 22/25\n",
            "250/250 [==============================] - 52s 206ms/step - loss: 0.2825 - accuracy: 0.8759 - val_loss: 0.5177 - val_accuracy: 0.7910\n",
            "Epoch 23/25\n",
            "250/250 [==============================] - 50s 201ms/step - loss: 0.2830 - accuracy: 0.8798 - val_loss: 0.5812 - val_accuracy: 0.7715\n",
            "Epoch 24/25\n",
            "250/250 [==============================] - 51s 203ms/step - loss: 0.2729 - accuracy: 0.8851 - val_loss: 0.5253 - val_accuracy: 0.7915\n",
            "Epoch 25/25\n",
            "250/250 [==============================] - 51s 203ms/step - loss: 0.2520 - accuracy: 0.8936 - val_loss: 0.5087 - val_accuracy: 0.7950\n"
          ]
        },
        {
          "data": {
            "text/plain": [
              "<keras.callbacks.History at 0x1741d87c040>"
            ]
          },
          "execution_count": 6,
          "metadata": {},
          "output_type": "execute_result"
        }
      ],
      "source": [
        "#Training the CNN on the training set and evaluating it on the Test set\n",
        "cnn.fit(x = training_set, validation_data=test_set, epochs=25)"
      ]
    },
    {
      "cell_type": "markdown",
      "metadata": {
        "id": "t5kLjfNGhdQ4"
      },
      "source": [
        "**Making Predictions and evaluating the model**"
      ]
    },
    {
      "cell_type": "code",
      "execution_count": null,
      "metadata": {
        "colab": {
          "base_uri": "https://localhost:8080/",
          "height": 131
        },
        "id": "josKxueZAf7y",
        "outputId": "5cf3b4f2-c5b9-4c60-b34a-24b1ea2108ad"
      },
      "outputs": [
        {
          "name": "stdout",
          "output_type": "stream",
          "text": [
            "1/1 [==============================] - 0s 26ms/step\n",
            "dog\n"
          ]
        }
      ],
      "source": [
        "import numpy as np\n",
        "import keras.utils as image\n",
        "\n",
        "test_image = image.load_img('dataset/single_prediction/cat_or_dog_1.jpg', target_size=(64, 64))\n",
        "test_image = image.img_to_array(test_image)\n",
        "#Increasing the dimensionality of a single image\n",
        "test_image = np.expand_dims(test_image, axis=0)\n",
        "result = cnn.predict(test_image)\n",
        "#Get the encoding technique used by the model\n",
        "training_set.class_indices\n",
        "\n",
        "if result[0][0] == 1:\n",
        "  prediction = 'dog'\n",
        "else:\n",
        "  prediction = 'cat'\n",
        "#Print Prediction\n",
        "print(prediction)"
      ]
    }
  ],
  "metadata": {
    "colab": {
      "provenance": [],
      "include_colab_link": true
    },
    "kernelspec": {
      "display_name": "Python 3 (ipykernel)",
      "language": "python",
      "name": "python3"
    },
    "language_info": {
      "codemirror_mode": {
        "name": "ipython",
        "version": 3
      },
      "file_extension": ".py",
      "mimetype": "text/x-python",
      "name": "python",
      "nbconvert_exporter": "python",
      "pygments_lexer": "ipython3",
      "version": "3.10.11"
    }
  },
  "nbformat": 4,
  "nbformat_minor": 0
}