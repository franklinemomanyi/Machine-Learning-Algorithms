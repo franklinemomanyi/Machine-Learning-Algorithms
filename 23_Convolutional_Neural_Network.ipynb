{
  "nbformat": 4,
  "nbformat_minor": 0,
  "metadata": {
    "colab": {
      "provenance": [],
      "authorship_tag": "ABX9TyMAQk+6nsYDo6FZI5i7Uac3",
      "include_colab_link": true
    },
    "kernelspec": {
      "name": "python3",
      "display_name": "Python 3"
    },
    "language_info": {
      "name": "python"
    }
  },
  "cells": [
    {
      "cell_type": "markdown",
      "metadata": {
        "id": "view-in-github",
        "colab_type": "text"
      },
      "source": [
        "<a href=\"https://colab.research.google.com/github/franklinemomanyi/MachineLearning/blob/main/23_Convolutional_Neural_Network.ipynb\" target=\"_parent\"><img src=\"https://colab.research.google.com/assets/colab-badge.svg\" alt=\"Open In Colab\"/></a>"
      ]
    },
    {
      "cell_type": "markdown",
      "source": [
        "**Importing Libraries**"
      ],
      "metadata": {
        "id": "xNJXvfWKhONF"
      }
    },
    {
      "cell_type": "markdown",
      "source": [
        "**Data Preporocessing**"
      ],
      "metadata": {
        "id": "OY3LSvpghXPT"
      }
    },
    {
      "cell_type": "markdown",
      "source": [
        "**Building CNN**"
      ],
      "metadata": {
        "id": "HXRHoBiEhZJE"
      }
    },
    {
      "cell_type": "markdown",
      "source": [
        "**Training CNN**"
      ],
      "metadata": {
        "id": "qGGRPwbDhaw0"
      }
    },
    {
      "cell_type": "markdown",
      "source": [
        "**Making Predictions and evaluating the model**"
      ],
      "metadata": {
        "id": "t5kLjfNGhdQ4"
      }
    }
  ]
}