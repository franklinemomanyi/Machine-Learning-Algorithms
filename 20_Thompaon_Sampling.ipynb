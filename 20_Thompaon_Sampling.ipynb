{
  "nbformat": 4,
  "nbformat_minor": 0,
  "metadata": {
    "colab": {
      "provenance": [],
      "authorship_tag": "ABX9TyMZUG5/mv96PcvZ0swnslCr",
      "include_colab_link": true
    },
    "kernelspec": {
      "name": "python3",
      "display_name": "Python 3"
    },
    "language_info": {
      "name": "python"
    }
  },
  "cells": [
    {
      "cell_type": "markdown",
      "metadata": {
        "id": "view-in-github",
        "colab_type": "text"
      },
      "source": [
        "<a href=\"https://colab.research.google.com/github/franklinemomanyi/MachineLearning/blob/main/20_Thompaon_Sampling.ipynb\" target=\"_parent\"><img src=\"https://colab.research.google.com/assets/colab-badge.svg\" alt=\"Open In Colab\"/></a>"
      ]
    },
    {
      "cell_type": "code",
      "execution_count": null,
      "metadata": {
        "id": "titFOt19rUyr"
      },
      "outputs": [],
      "source": [
        "import numpy as np\n",
        "import matplotlib.pyplot as plt\n",
        "import pandas as pd"
      ]
    },
    {
      "cell_type": "code",
      "source": [
        "data = pd.read_csv('Ads_CTR_Optimisation.csv')"
      ],
      "metadata": {
        "id": "yHAY0HDD5obs"
      },
      "execution_count": null,
      "outputs": []
    },
    {
      "cell_type": "code",
      "source": [
        "import random\n",
        "N = 10000\n",
        "d = 10\n",
        "ads_selected = []\n",
        "numbers_of_reward_1 = [0] * d\n",
        "numbers_of_reward_0 = [0] * d\n",
        "total_reward = 0\n",
        "\n",
        "for n in range(0,N):\n",
        "  ad = 0\n",
        "  max_random = 0\n",
        "\n",
        "  for i in range(0,10):\n"
      ],
      "metadata": {
        "id": "754TsWHv5u8D"
      },
      "execution_count": null,
      "outputs": []
    }
  ]
}